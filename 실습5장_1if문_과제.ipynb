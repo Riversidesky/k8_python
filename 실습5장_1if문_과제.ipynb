{
 "cells": [
  {
   "cell_type": "code",
   "execution_count": 7,
   "metadata": {},
   "outputs": [
    {
     "name": "stdout",
     "output_type": "stream",
     "text": [
      "else문 실행\n",
      "Bmw\n",
      "if문이 참일때\n",
      "else문 실행\n",
      "else문 실행\n"
     ]
    }
   ],
   "source": [
    "cars = ['audi', 'bmw', 'genesis', 'k5']\n",
    "for car in cars:\n",
    "    if car == 'bmw':\n",
    "        print(car.capitalize())\n",
    "        print(\"if문이 참일때\")\n",
    "    else:\n",
    "        print(\"else문 실행\")\\\n",
    "        "
   ]
  },
  {
   "cell_type": "code",
   "execution_count": 9,
   "metadata": {},
   "outputs": [
    {
     "name": "stdout",
     "output_type": "stream",
     "text": [
      "good이 심볼에 있다\n",
      "토핑 = mushroom\n",
      "토핑 = onions\n",
      "토핑 = pineapple\n",
      "mushroom양념이 포함되다\n",
      "ok\n"
     ]
    }
   ],
   "source": [
    "symbol1 = 'good nice'\n",
    "if 'good' in symbol1: ## 문자열이 포함되는지 체크\n",
    "    print(f\"good이 심볼에 있다\")\n",
    "requested_toppings =['mushroom','onions','pineapple']\n",
    "for topping in requested_toppings:\n",
    "    print(f\"토핑 = {topping}\")\n",
    "if 'mushroom' in requested_toppings: ## 리스트에 문자열이 포함되는지 체크\n",
    "    print(f\"{requested_toppings[0]}양념이 포함되다\")\n",
    "    print('ok')\n",
    "else:\n",
    "    print(\"양념없다{}\".format(requested_toppings[2]))"
   ]
  },
  {
   "cell_type": "markdown",
   "metadata": {},
   "source": [
    "if n < 1 :\n",
    "    print\n",
    "elif n < 3:\n",
    "    print\n",
    "else:\n",
    "    print"
   ]
  },
  {
   "cell_type": "code",
   "execution_count": 28,
   "metadata": {},
   "outputs": [
    {
     "name": "stdout",
     "output_type": "stream",
     "text": [
      "기호 = a\n",
      "기호 = b\n",
      "기호 = c\n"
     ]
    }
   ],
   "source": [
    "lst = ()\n",
    "## lst[0] = 11 #튜플은 값 변환 불가(immutable)\n",
    "#print(lst[0]) ## 리스트와 튜플 차이 정확하게 알기\n",
    "l = []\n",
    "#l[0] = 11\n",
    "#print(l[0])\n",
    "d = {} #dictionary\n",
    "s = \"abc\" #빈 심볼\n",
    "if s :\n",
    "    for symbol in s:\n",
    "        print(f\"기호 = {symbol}\")\n",
    "# else:\n",
    "#     print(\"빈 리스트\")"
   ]
  },
  {
   "cell_type": "markdown",
   "metadata": {},
   "source": [
    "false로 반환되는 값: none, 0, 0.0, 빈컨테이너(빈 문자열, 빈 바이트열, 빈 리스트, 빈 튜플, 빈 딕셔너리)"
   ]
  },
  {
   "cell_type": "code",
   "execution_count": 31,
   "metadata": {},
   "outputs": [
    {
     "name": "stdout",
     "output_type": "stream",
     "text": [
      "lang = Python\n",
      "lang = Java\n",
      "1\n",
      "lang = C++\n",
      "lang = JavaScript\n",
      "lang = Ruby\n",
      "lang = Java\n",
      "5\n"
     ]
    }
   ],
   "source": [
    "# 코딩 언어 리스트 초기화\n",
    "languages = ['Python', 'Java', 'C++', 'JavaScript', 'Ruby', 'Java']\n",
    "\n",
    "# enumerate를 사용하여 'Java'가 존재하는지 확인하고 인덱스를 출력\n",
    "for ind, lang in enumerate(languages): # enumrate는 원소의 index와 value를 둘다 반환\n",
    "    print(f\"lang = {lang}\")\n",
    "    if lang == 'Java':\n",
    "        print(ind)"
   ]
  }
 ],
 "metadata": {
  "kernelspec": {
   "display_name": "Python 3",
   "language": "python",
   "name": "python3"
  },
  "language_info": {
   "codemirror_mode": {
    "name": "ipython",
    "version": 3
   },
   "file_extension": ".py",
   "mimetype": "text/x-python",
   "name": "python",
   "nbconvert_exporter": "python",
   "pygments_lexer": "ipython3",
   "version": "3.9.13"
  }
 },
 "nbformat": 4,
 "nbformat_minor": 2
}
