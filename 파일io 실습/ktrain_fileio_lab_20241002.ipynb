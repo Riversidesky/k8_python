{
  "cells": [
    {
      "cell_type": "markdown",
      "metadata": {
        "id": "ZYJeA4fpcGNk"
      },
      "source": [
        "# Lab"
      ]
    },
    {
      "cell_type": "markdown",
      "metadata": {
        "id": "0AZqhmeccW7p"
      },
      "source": [
        "\n",
        "## 1. 미국 대통령에 관한 정보를 담은 파일을 읽고 이를 처리하는 프로그램을 작성하세요. 그로버 클리블랜드처럼 비연속적인 임기를 지낸 대통령들은 각각의 임기가 따로 나열되어 있습니다.\n",
        "\n",
        "* President 클래스를 작성하고, 대통령의 이름, 각 임기의 시작 및 종료 연도를 추출하는 메서드를 작성하세요. 또한, 대통령이 총 4년 이상을 재임했는지(연속적이든 아니든)를 확인하는 메서드를 작성하세요.\n",
        "\n",
        "* 현재 재임 중인 대통령(예: 조 바이든, 종료 연도가 없는 경우)의 처리를 포함해야 합니다.\n",
        "\n",
        "* 파일: https://github.com/dbwebb-se/vlinux/blob/master/example/grep/presidents.txt\n",
        "\n",
        "* 파일의 각 줄에는 대통령의 이름과 그들이 재임한 연도가 쉼표로 구분되어 나열되어 있습니다.\n",
        "\n",
        "### President 클래스\n",
        "\n",
        "* 생성자 (__init__): President 객체를 초기화하며 대통령의 이름을 저장하고 process_term 메서드를 사용하여 각 임기를 처리합니다. 임기의 목록은 문자열로 전달되며, 각 문자열은 \"1789-1797\" 또는 \"1885-1889, 1893-1897\"처럼 표현됩니다.\n",
        "\n",
        "> 힌트: 생성자에서 list comprehension을 사용하여 각 임기 문자열을 __process_term 메서드를 사용해 (start_year, end_year) 튜플로 변환하세요. 이렇게 하면 대통령의 임기 데이터를 쉽게 접근하고 조작할 수 있습니다.\n",
        "\n",
        "* __process_term 메서드: 대통령 임기를 나타내는 문자열(예: \"1789-1797\")을 받아 시작 및 종료 연도를 정수로 변환하는 튜플로 바꿉니다. 종료 연도가 없으면(예: 현재 대통령인 경우) 현재 연도를 할당합니다.\n",
        "\n",
        "> 힌트: 문자열 분할(term.split('-'))을 사용해 임기를 시작 연도와 종료 연도로 나누세요. 종료 연도가 없으면 datetime.now().year를 사용하여 현재 연도를 할당하세요. 이 메서드는 완료된 임기와 진행 중인 임기 모두를 처리할 수 있도록 합니다.\n",
        "\n",
        "* is_served_multiple 메서드: 대통령이 총 4년 이상 재임했는지 또는 여러 임기를 지냈는지 확인합니다. 모든 임기를 합산하여 총 재임 기간이 4년을 초과하는지 확인합니다.\n",
        "\n",
        "> 힌트: generator expression을 사용해 각 임기의 종료 연도와 시작 연도 사이의 차이를 합산하여 총 재임 기간을 계산하세요.\n",
        "\n",
        "### 함수\n",
        "\n",
        "read_presidents_from_file 함수: 파일에서 각 줄에 대통령의 이름과 재임 기간이 포함된 데이터를 읽고, President 객체의 목록을 생성합니다.\n",
        "\n",
        "> 힌트: split(', ', 1)을 사용해 이름과 임기를 분리하세요. 그런 다음 임기를 목록으로 나누고 President 생성자에 전달하세요. 파일이 없는 경우 try-except 블록을 사용하여 예외 처리를 하세요.\n"
      ]
    },
    {
      "cell_type": "code",
      "execution_count": 72,
      "metadata": {},
      "outputs": [
        {
          "name": "stdout",
          "output_type": "stream",
          "text": [
            "George Washington, 1789-1797\n",
            "John Adams, 1797-1801\n",
            "Thomas Jefferson, 1801-1809\n",
            "James Madison, 1809-1817\n",
            "James Monroe, 1817-1825\n",
            "John Quincy Adams, 1825-1829\n",
            "Andrew Jackson, 1829-1837\n",
            "Martin Van Buren, 1837-1841\n",
            "William Henry Harrison, 1841-1841\n",
            "John Tyler, 1841-1845\n",
            "James Knox Polk, 1845-1849\n",
            "Zachary Taylor, 1849-1850\n",
            "Millard Fillmore, 1850-1853\n",
            "Franklin Pierce, 1853-1857\n",
            "James Buchanan, 1857-1861\n",
            "Abraham Lincoln, 1861-1865\n",
            "Andrew Johnson, 1865-1869\n",
            "Ulysses S. Grant, 1869-1877\n",
            "Rutherford Birchard Hayes, 1877-1881\n",
            "James Abram Garfield, 1881-1881\n",
            "Chester Alan Arthur, 1881-1885\n",
            "Grover Cleveland, 1885-1889\n",
            "Benjamin Harrison, 1889-1893\n",
            "Grover Cleveland, 1893-1897\n",
            "William McKinley, 1897-1901\n",
            "Theodore Roosevelt, 1901-1909\n",
            "William Howard Taft, 1909-1913\n",
            "Woodrow Wilson, 1913-1921\n",
            "Warren Gamaliel Harding, 1921-1923\n",
            "Calvin Coolidge, 1923-1929\n",
            "Herbert Clark Hoover, 1929-1933\n",
            "Franklin Delano Roosevelt, 1933-1945\n",
            "Harry S. Truman, 1945-1953\n",
            "Dwight David Eisenhower, 1953-1961\n",
            "John Fitzgerald Kennedy, 1961-1963\n",
            "Lyndon Baines Johnson, 1963-1969\n",
            "Richard Milhous Nixon, 1969-1974\n",
            "Gerald Rudolph Ford, 1974-1977\n",
            "James Earl Carter Jr., 1977-1981\n",
            "Ronald Wilson Reagan, 1981-1989\n",
            "George Herbert Walker Bush, 1989-1993\n",
            "William Jefferson Clinton, 1993-2001\n",
            "George Walker Bush, 2001-2009\n",
            "Barack Hussein Obama, 2009-2017\n",
            "Donald Trump, 2017-2021\n",
            "Joe Biden, 2021-\n"
          ]
        }
      ],
      "source": [
        "file_content = open('./presidents.txt')\n",
        "for line in file_content:\n",
        "    print(line.rstrip())"
      ]
    },
    {
      "cell_type": "code",
      "execution_count": 57,
      "metadata": {},
      "outputs": [
        {
          "name": "stdout",
          "output_type": "stream",
          "text": [
            "2\n",
            "1789-1797\n",
            "['1789', '1797']\n",
            "['1797', '']\n",
            "True\n"
          ]
        },
        {
          "data": {
            "text/plain": [
              "['George Washington', ' 1789-1797']"
            ]
          },
          "execution_count": 57,
          "metadata": {},
          "output_type": "execute_result"
        }
      ],
      "source": [
        "st1 = '1789-1797'\n",
        "st2 = '1797-'\n",
        "tup = 1,2,3\n",
        "print(tup[1])\n",
        "# tup[1] = 2 튜플은 값변경 x\n",
        "print(st1)\n",
        "print(st1.split('-'))\n",
        "print(st2.split('-'))\n",
        "\n",
        "if(st2.split('-')[1] == ''):\n",
        "    print(\"True\")\n",
        "else: print(\"False\")\n",
        "\n",
        "st3 = 'George Washington, 1789-1797'\n",
        "st3.split(',', 1) # 공백은 같이 안잘림"
      ]
    },
    {
      "cell_type": "code",
      "execution_count": 68,
      "metadata": {
        "id": "RNYIQCYnt9ca"
      },
      "outputs": [],
      "source": [
        "from datetime import datetime\n",
        "\n",
        "class President:\n",
        "    def __init__(self, name: str, terms: list):\n",
        "        self.name = name\n",
        "        self.terms = self.__process_term(terms)\n",
        "\n",
        "    def __process_term(self, term: str):\n",
        "        self.term = term.split('-')\n",
        "        # lst = term.split('-')\n",
        "        # start, end = int(lst[0]), int(lst[1])\n",
        "        # return start, end\n",
        "\n",
        "    def is_served_multiple(self) -> bool:\n",
        "        if self.term[1] == '': self.term[1] = datetime.now().year\n",
        "        if (int(self.term[1]) - int(self.term[0]) > 4): return True\n",
        "        return False"
      ]
    },
    {
      "cell_type": "code",
      "execution_count": 69,
      "metadata": {},
      "outputs": [],
      "source": [
        "def read_presidents_from_file(file_path: str) -> list:\n",
        "    result = []\n",
        "    file_content = open('./presidents.txt')\n",
        "    for line in file_content: ## 예외처리??\n",
        "        name, terms = line.rstrip().split(',')\n",
        "        # print(f'name:{name},  terms:{terms}')\n",
        "        p = President(name, terms) ## 생성자 호출해서 객체생성\n",
        "        result.append(p)\n",
        "    return result"
      ]
    },
    {
      "cell_type": "code",
      "execution_count": 70,
      "metadata": {
        "id": "19HbTZd5XI4i"
      },
      "outputs": [],
      "source": [
        "presidents = read_presidents_from_file('./presidents.txt')\n",
        "\n",
        "count = 0\n",
        "for president in presidents:\n",
        "    if president.is_served_multiple():\n",
        "        count += 1\n",
        "\n",
        "assert count == 18"
      ]
    },
    {
      "cell_type": "markdown",
      "metadata": {
        "id": "mGbPfQJEc5pl"
      },
      "source": [
        "\n",
        "## 2. TextAnalyzer 클래스를 작성하세요. 이 클래스에는 word_frequency() 메서드가 있으며, 생성 시 제공되는 텍스트 파일을 읽고 파일에 있는 각 단어의 빈도를 반환합니다. 단어는 소문자로 변환되어야 하고, 구두점은 무시되어야 합니다. 파일을 찾지 못했을 경우의 예외 처리를 적절히 처리하세요.\n",
        "\n",
        "> 파일 URL: https://gist.github.com/phillipj/4944029\n",
        "\n",
        "\n",
        "# 클래스 TextAnalyzer\n",
        "\n",
        "* 생성자 (init): TextAnalyzer 클래스의 인스턴스를 초기화합니다. 이 생성자는 하나의 인자 file_path를 받으며, 이 인자는 분석할 텍스트 파일의 경로를 나타냅니다. 이 인자는 나중에 다른 메서드에서 사용될 수 있도록 인스턴스 변수로 저장됩니다.\n",
        "\n",
        "> 힌트: 클래스를 인스턴스화할 때, 유효한 파일 경로를 생성자에게 인자로 전달하는지 확인하세요. 이 파일 경로는 word_frequency 메서드에서 사용됩니다.\n",
        "\n",
        "* word_frequency(self): 텍스트 파일을 처리하여 파일 내의 각 단어를 빈도로 매핑하는 딕셔너리를 반환합니다. 이 메서드는 파일의 내용을 읽고, 모든 텍스트를 소문자로 변환하여 대소문자 구분 없는 비교를 보장하며, 구두점을 제거하여 실제 단어에 집중합니다. 그런 다음, 내용을 단어로 분리하고, 각 단어의 출현 빈도를 계산하여 딕셔너리에 저장합니다.\n",
        "\n",
        "> 힌트: 이 메서드는 파일을 읽고 분석하여 각 단어가 몇 번 등장했는지를 카운팅하는 역할을 합니다. 텍스트는 대소문자 구분 없이 처리되어야 하며, 구두점과 같은 불필요한 문자는 제거되어야 합니다. 메서드는 각 단어와 그에 해당하는 빈도를 포함하는 딕셔너리를 반환합니다. 또한, 파일이 존재하지 않을 경우를 처리하는 예외처리도 해야 합니다.\n",
        "\n",
        "> 구두점 제거\n",
        "```python\n",
        "words = ''.join([char if char.isalnum() or char.isspace() else ' ' for char in file_content]).split()\n"
      ]
    },
    {
      "cell_type": "code",
      "execution_count": 117,
      "metadata": {
        "id": "4OXPr0YxXJwx"
      },
      "outputs": [],
      "source": [
        "class TextAnalyzer:\n",
        "    def __init__(self, file_path: str):\n",
        "        self.file_path = file_path\n",
        "\n",
        "    def word_frequency(self) -> dict:\n",
        "        file_content = open(self.file_path)\n",
        "        for line in file_content:\n",
        "            print(line.lower().strip()) # 소문자\n"
      ]
    },
    {
      "cell_type": "code",
      "execution_count": 128,
      "metadata": {},
      "outputs": [
        {
          "data": {
            "text/plain": [
              "['alice', 's', []]"
            ]
          },
          "execution_count": 128,
          "metadata": {},
          "output_type": "execute_result"
        }
      ],
      "source": []
    },
    {
      "cell_type": "code",
      "execution_count": 157,
      "metadata": {},
      "outputs": [
        {
          "name": "stdout",
          "output_type": "stream",
          "text": [
            "{'alice': 0, 's': 0, 'adventures': 0, 'in': 0, 'wonderland': 0, 'lewis': 0, 'carroll': 0, 'the': 0, 'millennium': 0, 'fulcrum': 0, 'edition': 0, '3': 0, '0': 0, 'chapter': 0, 'i': 0, 'down': 0, 'rabbit': 0, 'hole': 0, 'was': 0, 'beginning': 0, 'to': 0, 'get': 0, 'very': 0, 'tired': 0, 'of': 0, 'sitting': 0, 'by': 0, 'her': 0, 'sister': 0, 'on': 0, 'bank': 0, 'and': 0, 'having': 0, 'nothing': 0, 'do': 0, 'once': 0, 'or': 0, 'twice': 0, 'she': 0, 'had': 0, 'peeped': 0, 'into': 0, 'book': 0, 'reading': 0, 'but': 0, 'it': 0, 'no': 0, 'pictures': 0, 'conversations': 0, 'what': 0, 'is': 0, 'use': 0, 'a': 0, 'thought': 0, 'without': 0, 'conversation': 0, 'so': 0, 'considering': 0, 'own': 0, 'mind': 0, 'as': 0, 'well': 0, 'could': 0, 'for': 0, 'hot': 0, 'day': 0, 'made': 0, 'feel': 0, 'sleepy': 0, 'stupid': 0, 'whether': 0, 'pleasure': 0, 'making': 0, 'daisy': 0, 'chain': 0, 'would': 0, 'be': 0, 'worth': 0, 'trouble': 0, 'getting': 0, 'up': 0, 'picking': 0, 'daisies': 0, 'when': 0, 'suddenly': 0, 'white': 0, 'with': 0, 'pink': 0, 'eyes': 0, 'ran': 0, 'close': 0, 'there': 0, 'remarkable': 0, 'that': 0, 'nor': 0, 'did': 0, 'think': 0, 'much': 0, 'out': 0, 'way': 0, 'hear': 0, 'say': 0, 'itself': 0, 'oh': 0, 'dear': 0, 'shall': 0, 'late': 0, 'over': 0, 'afterwards': 0, 'occurred': 0, 'ought': 0, 'have': 0, 'wondered': 0, 'at': 0, 'this': 0, 'time': 0, 'all': 0, 'seemed': 0, 'quite': 0, 'natural': 0, 'actually': 0, 'took': 0, 'watch': 0, 'its': 0, 'waistcoat': 0, 'pocket': 0, 'looked': 0, 'then': 0, 'hurried': 0, 'started': 0, 'feet': 0, 'flashed': 0, 'across': 0, 'never': 0, 'before': 0, 'seen': 0, 'either': 0, 'take': 0, 'burning': 0, 'curiosity': 0, 'field': 0, 'after': 0, 'fortunately': 0, 'just': 0, 'see': 0, 'pop': 0, 'large': 0, 'under': 0, 'hedge': 0, 'another': 0, 'moment': 0, 'went': 0, 'how': 0, 'world': 0, 'again': 0, 'straight': 0, 'like': 0, 'tunnel': 0, 'some': 0, 'dipped': 0, 'not': 0, 'about': 0, 'stopping': 0, 'herself': 0, 'found': 0, 'falling': 0, 'deep': 0, 'fell': 0, 'slowly': 0, 'plenty': 0, 'look': 0, 'wonder': 0, 'going': 0, 'happen': 0, 'next': 0, 'first': 0, 'tried': 0, 'make': 0, 'coming': 0, 'too': 0, 'dark': 0, 'anything': 0, 'sides': 0, 'noticed': 0, 'they': 0, 'were': 0, 'filled': 0, 'cupboards': 0, 'shelves': 0, 'here': 0, 'saw': 0, 'maps': 0, 'hung': 0, 'upon': 0, 'pegs': 0, 'jar': 0, 'from': 0, 'one': 0, 'passed': 0, 'labelled': 0, 'orange': 0, 'marmalade': 0, 'great': 0, 'disappointment': 0, 'empty': 0, 'drop': 0, 'fear': 0, 'killing': 0, 'somebody': 0, 'managed': 0, 'put': 0, 'past': 0, 'such': 0, 'fall': 0, 'tumbling': 0, 'stairs': 0, 'brave': 0, 'll': 0, 'me': 0, 'home': 0, 'why': 0, 'wouldn': 0, 't': 0, 'even': 0, 'if': 0, 'off': 0, 'top': 0, 'house': 0, 'which': 0, 'likely': 0, 'true': 0, 'come': 0, 'an': 0, 'end': 0, 'many': 0, 'miles': 0, 've': 0, 'fallen': 0, 'said': 0, 'aloud': 0, 'must': 0, 'somewhere': 0, 'near': 0, 'centre': 0, 'earth': 0, 'let': 0, 'four': 0, 'thousand': 0, 'you': 0, 'learnt': 0, 'several': 0, 'things': 0, 'sort': 0, 'lessons': 0, 'schoolroom': 0, 'though': 0, 'good': 0, 'opportunity': 0, 'showing': 0, 'knowledge': 0, 'listen': 0, 'still': 0, 'practice': 0, 'yes': 0, 'right': 0, 'distance': 0, 'latitude': 0, 'longitude': 0, 'got': 0, 'idea': 0, 'nice': 0, 'grand': 0, 'words': 0, 'presently': 0, 'began': 0, 'through': 0, 'funny': 0, 'seem': 0, 'among': 0, 'people': 0, 'walk': 0, 'their': 0, 'heads': 0, 'downward': 0, 'antipathies': 0, 'rather': 0, 'glad': 0, 'listening': 0, 'didn': 0, 'sound': 0, 'word': 0, 'ask': 0, 'them': 0, 'name': 0, 'country': 0, 'know': 0, 'please': 0, 'ma': 0, 'am': 0, 'new': 0, 'zealand': 0, 'australia': 0, 'curtsey': 0, 'spoke': 0, 'fancy': 0, 'curtseying': 0, 're': 0, 'air': 0, 'manage': 0, 'ignorant': 0, 'little': 0, 'girl': 0, 'asking': 0, 'perhaps': 0, 'written': 0, 'else': 0, 'soon': 0, 'talking': 0, 'dinah': 0, 'miss': 0, 'night': 0, 'should': 0, 'cat': 0, 'hope': 0, 'remember': 0, 'saucer': 0, 'milk': 0, 'tea': 0, 'my': 0, 'wish': 0, 'are': 0, 'mice': 0, 'm': 0, 'afraid': 0, 'might': 0, 'catch': 0, 'bat': 0, 'mouse': 0, 'cats': 0, 'eat': 0, 'bats': 0, 'saying': 0, 'dreamy': 0, 'sometimes': 0, 'couldn': 0, 'answer': 0, 'question': 0, 'matter': 0, 'felt': 0, 'dozing': 0, 'begun': 0, 'dream': 0, 'walking': 0, 'hand': 0, 'earnestly': 0, 'now': 0, 'tell': 0, 'truth': 0, 'ever': 0, 'thump': 0, 'came': 0, 'heap': 0, 'sticks': 0, 'dry': 0, 'leaves': 0, 'bit': 0, 'hurt': 0, 'jumped': 0, 'overhead': 0, 'long': 0, 'passage': 0, 'sight': 0, 'hurrying': 0, 'lost': 0, 'away': 0, 'wind': 0, 'turned': 0, 'corner': 0, 'ears': 0, 'whiskers': 0, 'behind': 0, 'longer': 0, 'low': 0, 'hall': 0, 'lit': 0, 'row': 0, 'lamps': 0, 'hanging': 0, 'roof': 0, 'doors': 0, 'round': 0, 'locked': 0, 'been': 0, 'side': 0, 'other': 0, 'trying': 0, 'every': 0, 'door': 0, 'walked': 0, 'sadly': 0, 'middle': 0, 'wondering': 0, 'three': 0, 'legged': 0, 'table': 0, 'solid': 0, 'glass': 0, 'except': 0, 'tiny': 0, 'golden': 0, 'key': 0, 'belong': 0, 'alas': 0, 'locks': 0, 'small': 0, 'any': 0, 'rate': 0, 'open': 0, 'however': 0, 'second': 0, 'curtain': 0, 'fifteen': 0, 'inches': 0, 'high': 0, 'lock': 0, 'delight': 0, 'fitted': 0, 'opened': 0, 'led': 0, 'larger': 0, 'than': 0, 'rat': 0, 'knelt': 0, 'along': 0, 'loveliest': 0, 'garden': 0, 'longed': 0, 'wander': 0, 'those': 0, 'beds': 0, 'bright': 0, 'flowers': 0, 'cool': 0, 'fountains': 0, 'head': 0, 'doorway': 0, 'go': 0, 'poor': 0, 'shoulders': 0, 'shut': 0, 'telescope': 0, 'only': 0, 'begin': 0, 'happened': 0, 'lately': 0, 'few': 0, 'indeed': 0, 'really': 0, 'impossible': 0, 'waiting': 0, 'back': 0, 'half': 0, 'hoping': 0, 'find': 0, 'rules': 0, 'shutting': 0, 'telescopes': 0, 'bottle': 0, 'certainly': 0, 'neck': 0, 'paper': 0, 'label': 0, 'drink': 0, 'beautifully': 0, 'printed': 0, 'letters': 0, 'wise': 0, 'hurry': 0, 'marked': 0, 'poison': 0, 'read': 0, 'histories': 0, 'children': 0, 'who': 0, 'burnt': 0, 'eaten': 0, 'wild': 0, 'beasts': 0, 'unpleasant': 0, 'because': 0, 'simple': 0, 'friends': 0, 'taught': 0, 'red': 0, 'poker': 0, 'will': 0, 'burn': 0, 'hold': 0, 'cut': 0, 'your': 0, 'finger': 0, 'deeply': 0, 'knife': 0, 'usually': 0, 'bleeds': 0, 'forgotten': 0, 'almost': 0, 'certain': 0, 'disagree': 0, 'sooner': 0, 'later': 0, 'ventured': 0, 'taste': 0, 'finding': 0, 'fact': 0, 'mixed': 0, 'flavour': 0, 'cherry': 0, 'tart': 0, 'custard': 0, 'pine': 0, 'apple': 0, 'roast': 0, 'turkey': 0, 'toffee': 0, 'buttered': 0, 'toast': 0, 'finished': 0, 'curious': 0, 'feeling': 0, 'ten': 0, 'face': 0, 'brightened': 0, 'size': 0, 'lovely': 0, 'waited': 0, 'minutes': 0, 'shrink': 0, 'further': 0, 'nervous': 0, 'altogether': 0, 'candle': 0, 'flame': 0, 'blown': 0, 'thing': 0, 'while': 0, 'more': 0, 'decided': 0, 'possibly': 0, 'reach': 0, 'plainly': 0, 'best': 0, 'climb': 0, 'legs': 0, 'slippery': 0, 'sat': 0, 'cried': 0, 'crying': 0, 'sharply': 0, 'advise': 0, 'leave': 0, 'minute': 0, 'generally': 0, 'gave': 0, 'advice': 0, 'seldom': 0, 'followed': 0, 'scolded': 0, 'severely': 0, 'bring': 0, 'tears': 0, 'remembered': 0, 'box': 0, 'cheated': 0, 'game': 0, 'croquet': 0, 'playing': 0, 'against': 0, 'child': 0, 'fond': 0, 'pretending': 0, 'two': 0, 'pretend': 0, 'hardly': 0, 'enough': 0, 'left': 0, 'respectable': 0, 'person': 0, 'eye': 0, 'lying': 0, 'cake': 0, 'currants': 0, 'makes': 0, 'grow': 0, 'can': 0, 'smaller': 0, 'creep': 0, 'don': 0, 'care': 0, 'happens': 0, 'ate': 0, 'anxiously': 0, 'holding': 0, 'growing': 0, 'surprised': 0, 'remained': 0, 'same': 0, 'sure': 0, 'eats': 0, 'expecting': 0, 'dull': 0, 'life': 0, 'common': 0, 'set': 0, 'work': 0, 'ii': 0, 'pool': 0, 'curiouser': 0, 'forgot': 0, 'speak': 0, 'english': 0, 'opening': 0, 'largest': 0, 'bye': 0, 'far': 0, 'shoes': 0, 'stockings': 0, 'dears': 0, 'shan': 0, 'able': 0, 'deal': 0, 'myself': 0, 'kind': 0, 'won': 0, 'want': 0, 'give': 0, 'pair': 0, 'boots': 0, 'christmas': 0, 'planning': 0, 'carrier': 0, 'sending': 0, 'presents': 0, 'odd': 0, 'directions': 0, 'foot': 0, 'esq': 0, 'hearthrug': 0, 'fender': 0, 'love': 0, 'nonsense': 0, 'struck': 0, 'nine': 0, 'hopeless': 0, 'cry': 0, 'ashamed': 0, 'yourself': 0, 'stop': 0, 'shedding': 0, 'gallons': 0, 'until': 0, 'reaching': 0, 'heard': 0, 'pattering': 0, 'hastily': 0, 'dried': 0, 'returning': 0, 'splendidly': 0, 'dressed': 0, 'kid': 0, 'gloves': 0, 'fan': 0, 'he': 0, 'trotting': 0, 'muttering': 0, 'himself': 0, 'duchess': 0, 'savage': 0, 'kept': 0, 'desperate': 0, 'ready': 0, 'help': 0, 'timid': 0, 'voice': 0, 'sir': 0, 'violently': 0, 'dropped': 0, 'skurried': 0, 'darkness': 0, 'hard': 0, 'fanning': 0, 'queer': 0, 'everything': 0, 'yesterday': 0, 'usual': 0, 'changed': 0, 'morning': 0, 'different': 0, 'ah': 0, 'puzzle': 0, 'thinking': 0, 'knew': 0, 'age': 0, 'ada': 0, 'hair': 0, 'goes': 0, 'ringlets': 0, 'mine': 0, 'doesn': 0, 'mabel': 0, 'sorts': 0, 'knows': 0, 'besides': 0, 'puzzling': 0, 'try': 0, 'used': 0, 'times': 0, 'five': 0, 'twelve': 0, 'six': 0, 'thirteen': 0, 'seven': 0, 'twenty': 0, 'multiplication': 0, 'signify': 0, 'geography': 0, 'london': 0, 'capital': 0, 'paris': 0, 'rome': 0, 'wrong': 0, 'doth': 0, 'crossed': 0, 'hands': 0, 'lap': 0, 'repeat': 0, 'sounded': 0, 'hoarse': 0, 'strange': 0, 'crocodile': 0, 'improve': 0, 'his': 0, 'shining': 0, 'tail': 0, 'pour': 0, 'waters': 0, 'nile': 0, 'scale': 0, 'cheerfully': 0, 'seems': 0, 'grin': 0, 'neatly': 0, 'spread': 0, 'claws': 0, 'welcome': 0, 'fishes': 0, 'gently': 0, 'smiling': 0, 'jaws': 0, 'live': 0, 'poky': 0, 'toys': 0, 'play': 0, 'learn': 0, 'stay': 0, 'putting': 0, 'being': 0, 'till': 0, 'sudden': 0, 'burst': 0, 'alone': 0, 'done': 0, 'measure': 0, 'nearly': 0, 'guess': 0, 'shrinking': 0, 'rapidly': 0, 'cause': 0, 'avoid': 0, 'narrow': 0, 'escape': 0, 'frightened': 0, 'change': 0, 'existence': 0, 'speed': 0, 'worse': 0, 'declare': 0, 'bad': 0, 'these': 0, 'slipped': 0, 'splash': 0, 'chin': 0, 'salt': 0, 'water': 0, 'somehow': 0, 'sea': 0, 'case': 0, 'railway': 0, 'seaside': 0, 'general': 0, 'conclusion': 0, 'wherever': 0, 'coast': 0, 'number': 0, 'bathing': 0, 'machines': 0, 'digging': 0, 'sand': 0, 'wooden': 0, 'spades': 0, 'lodging': 0, 'houses': 0, 'station': 0, 'wept': 0, 'hadn': 0, 'swam': 0, 'punished': 0, 'suppose': 0, 'drowned': 0, 'something': 0, 'splashing': 0, 'nearer': 0, 'walrus': 0, 'hippopotamus': 0, 'talk': 0, 'harm': 0, 'o': 0, 'swimming': 0, 'speaking': 0, 'brother': 0, 'latin': 0, 'grammar': 0, 'inquisitively': 0, 'wink': 0, 'understand': 0, 'daresay': 0, 'french': 0, 'william': 0, 'conqueror': 0, 'history': 0, 'clear': 0, 'notion': 0, 'ago': 0, 'ou': 0, 'est': 0, 'chatte': 0, 'sentence': 0, 'lesson': 0, 'leap': 0, 'quiver': 0, 'fright': 0, 'beg': 0, 'pardon': 0, 'animal': 0, 'feelings': 0, 'shrill': 0, 'passionate': 0, 'soothing': 0, 'tone': 0, 'angry': 0, 'yet': 0, 'show': 0, 'our': 0, 'd': 0, 'quiet': 0, 'lazily': 0, 'sits': 0, 'purring': 0, 'nicely': 0, 'fire': 0, 'licking': 0, 'paws': 0, 'washing': 0, 'soft': 0, 'nurse': 0, 'catching': 0, 'bristling': 0, 'offended': 0, 'we': 0, 'trembling': 0, 'subject': 0, 'family': 0, 'always': 0, 'hated': 0, 'nasty': 0, 'vulgar': 0, 'dogs': 0, 'eagerly': 0, 'dog': 0, 'eyed': 0, 'terrier': 0, 'curly': 0, 'brown': 0, 'fetch': 0, 'throw': 0, 'sit': 0, 'dinner': 0, 'belongs': 0, 'farmer': 0, 'says': 0, 'useful': 0, 'hundred': 0, 'pounds': 0, 'kills': 0, 'rats': 0, 'sorrowful': 0, 'commotion': 0, 'called': 0, 'softly': 0, 'pale': 0, 'passion': 0, 'us': 0, 'shore': 0, 'hate': 0, 'crowded': 0, 'birds': 0, 'animals': 0, 'duck': 0, 'dodo': 0, 'lory': 0, 'eaglet': 0, 'creatures': 0, 'whole': 0, 'party': 0, 'iii': 0, 'caucus': 0, 'race': 0, 'tale': 0, 'looking': 0, 'assembled': 0, 'draggled': 0, 'feathers': 0, 'fur': 0, 'clinging': 0, 'dripping': 0, 'wet': 0, 'cross': 0, 'uncomfortable': 0, 'course': 0, 'consultation': 0, 'familiarly': 0, 'known': 0, 'argument': 0, 'last': 0, 'sulky': 0, 'older': 0, 'better': 0, 'allow': 0, 'knowing': 0, 'old': 0, 'positively': 0, 'refused': 0, 'authority': 0, 'ring': 0, 'fixed': 0, 'cold': 0, 'ahem': 0, 'important': 0, 'driest': 0, 'silence': 0, 'whose': 0, 'favoured': 0, 'pope': 0, 'submitted': 0, 'wanted': 0, 'leaders': 0, 'accustomed': 0, 'usurpation': 0, 'conquest': 0, 'edwin': 0, 'morcar': 0, 'earls': 0, 'mercia': 0, 'northumbria': 0, 'ugh': 0, 'shiver': 0, 'frowning': 0, 'politely': 0, 'proceed': 0, 'declared': 0, 'him': 0, 'stigand': 0, 'patriotic': 0, 'archbishop': 0, 'canterbury': 0, 'advisable': 0, 'replied': 0, 'crossly': 0, 'means': 0, 'frog': 0, 'worm': 0, 'notice': 0, 'hurriedly': 0, 'edgar': 0, 'atheling': 0, 'meet': 0, 'offer': 0, 'crown': 0, 'conduct': 0, 'moderate': 0, 'insolence': 0, 'normans': 0, 'continued': 0, 'turning': 0, 'melancholy': 0, 'solemnly': 0, 'rising': 0, 'move': 0, 'meeting': 0, 'adjourn': 0, 'immediate': 0, 'adoption': 0, 'energetic': 0, 'remedies': 0, 'meaning': 0, 'believe': 0, 'bent': 0, 'hide': 0, 'smile': 0, 'tittered': 0, 'audibly': 0, 'paused': 0, 'inclined': 0, 'explain': 0, 'winter': 0, 'circle': 0, 'exact': 0, 'shape': 0, 'placed': 0, 'running': 0, 'liked': 0, 'easy': 0, 'hour': 0, 'panting': 0, 'has': 0, 'pressed': 0, 'forehead': 0, 'position': 0, 'shakespeare': 0, 'rest': 0, 'everybody': 0, 'prizes': 0, 'chorus': 0, 'voices': 0, 'asked': 0, 'pointing': 0, 'calling': 0, 'confused': 0, 'despair': 0, 'pulled': 0, 'comfits': 0, 'luckily': 0, 'handed': 0, 'exactly': 0, 'piece': 0, 'prize': 0, 'gravely': 0, 'thimble': 0, 'presented': 0, 'acceptance': 0, 'elegant': 0, 'short': 0, 'speech': 0, 'cheered': 0, 'absurd': 0, 'grave': 0, 'dare': 0, 'laugh': 0, 'simply': 0, 'bowed': 0, 'solemn': 0, 'caused': 0, 'noise': 0, 'confusion': 0, 'complained': 0, 'theirs': 0, 'ones': 0, 'choked': 0, 'patted': 0, 'begged': 0, 'promised': 0, 'c': 0, 'added': 0, 'whisper': 0, 'sad': 0, 'sighing': 0, 'call': 0, 'fury': 0, 'met': 0, 'both': 0, 'law': 0, 'prosecute': 0, 'denial': 0, 'trial': 0, 'cur': 0, 'jury': 0, 'judge': 0, 'wasting': 0, 'breath': 0, 'cunning': 0, 'condemn': 0, 'death': 0, 'attending': 0, 'humbly': 0, 'fifth': 0, 'bend': 0, 'angrily': 0, 'knot': 0, 'undo': 0, 'insult': 0, 'mean': 0, 'pleaded': 0, 'easily': 0, 'growled': 0, 'reply': 0, 'finish': 0, 'story': 0, 'others': 0, 'joined': 0, 'shook': 0, 'impatiently': 0, 'quicker': 0, 'pity': 0, 'sighed': 0, 'crab': 0, 'daughter': 0, 'lose': 0, 'temper': 0, 'tongue': 0, 'young': 0, 'snappishly': 0, 'patience': 0, 'oyster': 0, 'addressing': 0, 'nobody': 0, 'particular': 0, 'venture': 0, 'pet': 0, 'bird': 0, 'sensation': 0, 'magpie': 0, 'wrapping': 0, 'carefully': 0, 'remarking': 0, 'suit': 0, 'throat': 0, 'canary': 0, 'bed': 0, 'various': 0, 'pretexts': 0, 'moved': 0, 'mentioned': 0, 'lonely': 0, 'spirited': 0, 'footsteps': 0, 'iv': 0, 'sends': 0, 'bill': 0, 'executed': 0, 'ferrets': 0, 'where': 0, 'guessed': 0, 'naturedly': 0, 'hunting': 0, 'nowhere': 0, 'since': 0, 'swim': 0, 'vanished': 0, 'completely': 0, 'mary': 0, 'ann': 0, 'doing': 0, 'run': 0, 'quick': 0, 'direction': 0, 'pointed': 0, 'mistake': 0, 'housemaid': 0, 'finds': 0, 'neat': 0, 'brass': 0, 'plate': 0, 'w': 0, 'engraved': 0, 'knocking': 0, 'upstairs': 0, 'lest': 0, 'real': 0, 'messages': 0, 'fancying': 0, 'directly': 0, 'ordering': 0, 'tidy': 0, 'room': 0, 'window': 0, 'hoped': 0, 'pairs': 0, 'stood': 0, 'nevertheless': 0, 'uncorked': 0, 'lips': 0, 'interesting': 0, 'whenever': 0, 'does': 0, 'expected': 0, 'drunk': 0, 'pressing': 0, 'ceiling': 0, 'stoop': 0, 'save': 0, 'broken': 0, 'kneel': 0, 'floor': 0, 'effect': 0, 'elbow': 0, 'arm': 0, 'curled': 0, 'resource': 0, 'chimney': 0, 'whatever': 0, 'become': 0, 'magic': 0, 'full': 0, 'grew': 0, 'chance': 0, 'unhappy': 0, 'pleasanter': 0, 'wasn': 0, 'ordered': 0, 'rabbits': 0, 'gone': 0, 'fairy': 0, 'tales': 0, 'fancied': 0, 'write': 0, 'grown': 0, 'least': 0, 'comfort': 0, 'woman': 0, 'shouldn': 0, 'foolish': 0, 'answered': 0, 'books': 0, 'taking': 0, 'outside': 0, 'stopped': 0, 'trembled': 0, 'forgetting': 0, 'reason': 0, 'inwards': 0, 'attempt': 0, 'proved': 0, 'failure': 0, 'snatch': 0, 'shriek': 0, 'crash': 0, 'concluded': 0, 'possible': 0, 'cucumber': 0, 'frame': 0, 'pat': 0, 'apples': 0, 'yer': 0, 'honour': 0, 'sounds': 0, 'pronounced': 0, 'arrum': 0, 'goose': 0, 'fills': 0, 'business': 0, 'whispers': 0, 'coward': 0, 'shrieks': 0, 'frames': 0, 'pulling': 0, 'hearing': 0, 'rumbling': 0, 'cartwheels': 0, 'together': 0, 'ladder': 0, 'lad': 0, 'em': 0, 'tie': 0, 'rope': 0, 'bear': 0, 'loose': 0, 'slate': 0, 'below': 0, 'loud': 0, 'nay': 0, 'master': 0, 'shy': 0, 'place': 0, 'fireplace': 0, 'kick': 0, 'drew': 0, 'scratching': 0, 'scrambling': 0, 'above': 0, 'sharp': 0, 'brandy': 0, 'choke': 0, 'fellow': 0, 'feeble': 0, 'squeaking': 0, 'thank': 0, 'ye': 0, 'flustered': 0, 'comes': 0, 'jack': 0, 'sky': 0, 'rocket': 0, 'dead': 0, 'instantly': 0, 'sense': 0, 'moving': 0, 'barrowful': 0, 'doubt': 0, 'shower': 0, 'pebbles': 0, 'rattling': 0, 'hit': 0, 'shouted': 0, 'produced': 0, 'surprise': 0, 'cakes': 0, 'lay': 0, 'swallowed': 0, 'delighted': 0, 'crowd': 0, 'lizard': 0, 'held': 0, 'guinea': 0, 'pigs': 0, 'giving': 0, 'rush': 0, 'appeared': 0, 'safe': 0, 'thick': 0, 'wood': 0, 'wandered': 0, 'plan': 0, 'excellent': 0, 'arranged': 0, 'difficulty': 0, 'smallest': 0, 'peering': 0, 'trees': 0, 'bark': 0, 'enormous': 0, 'puppy': 0, 'feebly': 0, 'stretching': 0, 'paw': 0, 'touch': 0, 'coaxing': 0, 'whistle': 0, 'terribly': 0, 'hungry': 0, 'spite': 0, 'picked': 0, 'stick': 0, 'whereupon': 0, 'yelp': 0, 'rushed': 0, 'worry': 0, 'dodged': 0, 'thistle': 0, 'keep': 0, 'tumbled': 0, 'heels': 0, 'cart': 0, 'horse': 0, 'trampled': 0, 'series': 0, 'charges': 0, 'forwards': 0, 'each': 0, 'barking': 0, 'hoarsely': 0, 'mouth': 0, 'faint': 0, 'leant': 0, 'buttercup': 0, 'fanned': 0, 'teaching': 0, 'tricks': 0, 'blades': 0, 'grass': 0, 'circumstances': 0, 'mushroom': 0, 'height': 0, 'stretched': 0, 'tiptoe': 0, 'edge': 0, 'immediately': 0, 'caterpillar': 0, 'arms': 0, 'folded': 0, 'quietly': 0, 'smoking': 0, 'hookah': 0, 'v': 0, 'addressed': 0, 'languid': 0, 'encouraging': 0, 'shyly': 0, 'present': 0, 'sternly': 0, 'clearly': 0, 'sizes': 0, 'confusing': 0, 'isn': 0, 'haven': 0, 'turn': 0, 'chrysalis': 0, 'butterfly': 0, 'may': 0, 'contemptuously': 0, 'brought': 0, 'irritated': 0, 'remarks': 0, 'state': 0, 'promising': 0, 'swallowing': 0, 'anger': 0, 'wait': 0, 'puffed': 0, 'unfolded': 0, 'busy': 0, 'bee': 0, 'father': 0, 'man': 0, 'incessantly': 0, 'stand': 0, 'youth': 0, 'son': 0, 'feared': 0, 'injure': 0, 'brain': 0, 'perfectly': 0, 'none': 0, 'most': 0, 'uncommonly': 0, 'fat': 0, 'somersault': 0, 'pray': 0, 'sage': 0, 'grey': 0, 'limbs': 0, 'supple': 0, 'ointment': 0, 'shilling': 0, 'sell': 0, 'couple': 0, 'weak': 0, 'tougher': 0, 'suet': 0, 'bones': 0, 'beak': 0, 'argued': 0, 'wife': 0, 'muscular': 0, 'strength': 0, 'jaw': 0, 'lasted': 0, 'steady': 0, 'balanced': 0, 'eel': 0, 'nose': 0, 'awfully': 0, 'clever': 0, 'questions': 0, 'airs': 0, 'stuff': 0, 'timidly': 0, 'altered': 0, 'decidedly': 0, 'changing': 0, 'often': 0, 'contradicted': 0, 'losing': 0, 'content': 0, 'wretched': 0, 'rearing': 0, 'upright': 0, 'piteous': 0, 'patiently': 0, 'chose': 0, 'yawned': 0, 'crawled': 0, 'merely': 0, 'taller': 0, 'shorter': 0, 'thoughtfully': 0, 'difficult': 0, 'broke': 0, 'nibbled': 0, 'violent': 0, 'blow': 0, 'underneath': 0, 'closely': 0, 'swallow': 0, 'morsel': 0, 'lefthand': 0, 'free': 0, 'alarm': 0, 'immense': 0, 'length': 0, 'rise': 0, 'stalk': 0, 'green': 0, 'result': 0, 'follow': 0, 'shaking': 0, 'distant': 0, 'serpent': 0, 'succeeded': 0, 'curving': 0, 'graceful': 0, 'zigzag': 0, 'dive': 0, 'tops': 0, 'wandering': 0, 'hiss': 0, 'draw': 0, 'pigeon': 0, 'flown': 0, 'beating': 0, 'wings': 0, 'screamed': 0, 'indignantly': 0, 'repeated': 0, 'subdued': 0, 'sob': 0, 'roots': 0, 'banks': 0, 'hedges': 0, 'serpents': 0, 'pleasing': 0, 'puzzled': 0, 'hatching': 0, 'eggs': 0, 'sleep': 0, 'weeks': 0, 'sorry': 0, 'annoyed': 0, 'taken': 0, 'highest': 0, 'tree': 0, 'raising': 0, 'needs': 0, 'wriggling': 0, 'invent': 0, 'doubtfully': 0, 'changes': 0, 'deepest': 0, 'contempt': 0, 'girls': 0, 'denying': 0, 'telling': 0, 'tasted': 0, 'egg': 0, 'truthful': 0, 'silent': 0, 'adding': 0, 'matters': 0, 'yours': 0, 'raw': 0, 'settled': 0, 'nest': 0, 'crouched': 0, 'entangled': 0, 'branches': 0, 'untwist': 0, 'pieces': 0, 'nibbling': 0, 'bringing': 0, 'beautiful': 0, 'whoever': 0, 'lives': 0, 'frighten': 0, 'wits': 0, 'righthand': 0, 'vi': 0, 'pig': 0, 'pepper': 0, 'footman': 0, 'livery': 0, 'considered': 0, 'otherwise': 0, 'judging': 0, 'fish': 0, 'rapped': 0, 'loudly': 0, 'knuckles': 0, 'footmen': 0, 'powdered': 0, 'crept': 0, 'producing': 0, 'letter': 0, 'invitation': 0, 'queen': 0, 'order': 0, 'curls': 0, 'laughed': 0, 'ground': 0, 'staring': 0, 'stupidly': 0, 'knocked': 0, 'reasons': 0, 'secondly': 0, 'inside': 0, 'extraordinary': 0, 'within': 0, 'constant': 0, 'howling': 0, 'sneezing': 0, 'dish': 0, 'kettle': 0, 'between': 0, 'instance': 0, 'knock': 0, 'uncivil': 0, 'remarked': 0, 'tomorrow': 0, 'skimming': 0, 'grazed': 0, 'maybe': 0, 'louder': 0, 'told': 0, 'dreadful': 0, 'muttered': 0, 'argue': 0, 'drive': 0, 'crazy': 0, 'repeating': 0, 'remark': 0, 'variations': 0, 'days': 0, 'whistling': 0, 'desperately': 0, 'idiotic': 0, 'kitchen': 0, 'smoke': 0, 'stool': 0, 'nursing': 0, 'baby': 0, 'cook': 0, 'leaning': 0, 'stirring': 0, 'cauldron': 0, 'soup': 0, 'sneezed': 0, 'occasionally': 0, 'alternately': 0, 'pause': 0, 'sneeze': 0, 'hearth': 0, 'grinning': 0, 'ear': 0, 'manners': 0, 'grins': 0, 'cheshire': 0, 'violence': 0, 'courage': 0, 'grinned': 0, 'pleased': 0, 'introduce': 0, 'fix': 0, 'throwing': 0, 'irons': 0, 'saucepans': 0, 'plates': 0, 'dishes': 0, 'already': 0, 'blows': 0, 'jumping': 0, 'agony': 0, 'terror': 0, 'precious': 0, 'unusually': 0, 'saucepan': 0, 'flew': 0, 'carried': 0, 'minded': 0, 'growl': 0, 'faster': 0, 'advantage': 0, 'takes': 0, 'hours': 0, 'axis': 0, 'axes': 0, 'chop': 0, 'glanced': 0, 'meant': 0, 'hint': 0, 'busily': 0, 'bother': 0, 'abide': 0, 'figures': 0, 'singing': 0, 'lullaby': 0, 'shake': 0, 'line': 0, 'roughly': 0, 'boy': 0, 'beat': 0, 'sneezes': 0, 'annoy': 0, 'teases': 0, 'wow': 0, 'sang': 0, 'verse': 0, 'song': 0, 'tossing': 0, 'howled': 0, 'thoroughly': 0, 'enjoy': 0, 'pleases': 0, 'flinging': 0, 'threw': 0, 'frying': 0, 'pan': 0, 'missed': 0, 'caught': 0, 'shaped': 0, 'creature': 0, 'star': 0, 'snorting': 0, 'steam': 0, 'engine': 0, 'doubling': 0, 'straightening': 0, 'proper': 0, 'twist': 0, 'tight': 0, 'prevent': 0, 'undoing': 0, 'kill': 0, 'murder': 0, 'grunted': 0, 'grunt': 0, 'expressing': 0, 'snout': 0, 'also': 0, 'extremely': 0, 'sobbing': 0, 'seriously': 0, 'sobbed': 0, 'neither': 0, 'less': 0, 'carry': 0, 'relieved': 0, 'trot': 0, 'dreadfully': 0, 'ugly': 0, 'handsome': 0, 'startled': 0, 'seeing': 0, 'bough': 0, 'yards': 0, 'natured': 0, 'teeth': 0, 'treated': 0, 'respect': 0, 'puss': 0, 'wider': 0, 'depends': 0, 'explanation': 0, 'denied': 0, 'waving': 0, 'hatter': 0, 'march': 0, 'hare': 0, 'visit': 0, 'mad': 0, 'grant': 0, 'growls': 0, 'wags': 0, 'wag': 0, 'therefore': 0, 'growling': 0, 'invited': 0, 'happening': 0, 'became': 0, 'appear': 0, 'hatters': 0, 'raving': 0, 'branch': 0, 'fig': 0, 'appearing': 0, 'vanishing': 0, 'giddy': 0, 'ending': 0, 'farther': 0, 'chimneys': 0, 'thatched': 0, 'raised': 0, 'towards': 0, 'instead': 0, 'vii': 0, 'front': 0, 'dormouse': 0, 'fast': 0, 'asleep': 0, 'using': 0, 'cushion': 0, 'resting': 0, 'elbows': 0, 'chair': 0, 'wine': 0, 'civil': 0, 'laid': 0, 'wants': 0, 'cutting': 0, 'personal': 0, 'severity': 0, 'rude': 0, 'wide': 0, 'raven': 0, 'writing': 0, 'desk': 0, 'fun': 0, 'riddles': 0, 'breathe': 0, 'ravens': 0, 'desks': 0, 'break': 0, 'month': 0, 'uneasily': 0, 'fourth': 0, 'butter': 0, 'works': 0, 'meekly': 0, 'crumbs': 0, 'grumbled': 0, 'bread': 0, 'gloomily': 0, 'cup': 0, 'shoulder': 0, 'tells': 0, 'clock': 0, 'year': 0, 'readily': 0, 'stays': 0, 'poured': 0, 'riddle': 0, 'slightest': 0, 'wearily': 0, 'waste': 0, 'answers': 0, 'cautiously': 0, 'music': 0, 'accounts': 0, 'terms': 0, 'twinkling': 0, 'mournfully': 0, 'quarrelled': 0, 'spoon': 0, 'concert': 0, 'given': 0, 'hearts': 0, 'sing': 0, 'twinkle': 0, 'fly': 0, 'tray': 0, 'pinch': 0, 'bawled': 0, 'murdering': 0, 'exclaimed': 0, 'mournful': 0, 'sigh': 0, 'wash': 0, 'whiles': 0, 'interrupted': 0, 'yawning': 0, 'vote': 0, 'lady': 0, 'alarmed': 0, 'proposal': 0, 'wake': 0, 'pinched': 0, 'fellows': 0, 'sisters': 0, 'names': 0, 'elsie': 0, 'lacie': 0, 'tillie': 0, 'lived': 0, 'bottom': 0, 'interest': 0, 'eating': 0, 'drinking': 0, 'treacle': 0, 'ill': 0, 'ways': 0, 'living': 0, 'opinion': 0, 'triumphantly': 0, 'helped': 0, 'sh': 0, 'sulkily': 0, 'interrupt': 0, 'consented': 0, 'learning': 0, 'promise': 0, 'clean': 0, 'unwillingly': 0, 'upset': 0, 'jug': 0, 'offend': 0, 'eh': 0, 'choosing': 0, 'interrupting': 0, 'rubbing': 0, 'manner': 0, 'begins': 0, 'closed': 0, 'doze': 0, 'woke': 0, 'traps': 0, 'moon': 0, 'memory': 0, 'muchness': 0, 'drawing': 0, 'rudeness': 0, 'disgust': 0, 'teapot': 0, 'stupidest': 0, 'leading': 0, 'today': 0, 'unlocking': 0, 'flower': 0, 'viii': 0, 'rose': 0, 'entrance': 0, 'roses': 0, 'gardeners': 0, 'painting': 0, 'paint': 0, 'jogged': 0, 'blame': 0, 'deserved': 0, 'beheaded': 0, 'spoken': 0, 'tulip': 0, 'onions': 0, 'flung': 0, 'brush': 0, 'unjust': 0, 'chanced': 0, 'watching': 0, 'checked': 0, 'afore': 0, 'themselves': 0, 'flat': 0, 'faces': 0, 'eager': 0, 'soldiers': 0, 'carrying': 0, 'clubs': 0, 'oblong': 0, 'corners': 0, 'courtiers': 0, 'ornamented': 0, 'diamonds': 0, 'royal': 0, 'merrily': 0, 'couples': 0, 'guests': 0, 'mostly': 0, 'kings': 0, 'queens': 0, 'recognised': 0, 'noticing': 0, 'knave': 0, 'king': 0, 'crimson': 0, 'velvet': 0, 'procession': 0, 'doubtful': 0, 'lie': 0, 'rule': 0, 'processions': 0, 'opposite': 0, 'smiled': 0, 'idiot': 0, 'majesty': 0, 'pack': 0, 'cards': 0, 'needn': 0, 'rosetree': 0, 'pattern': 0, 'backs': 0, 'glaring': 0, 'beast': 0, 'consider': 0, 'bowing': 0, 'humble': 0, 'knee': 0, 'meanwhile': 0, 'examining': 0, 'remaining': 0, 'execute': 0, 'unfortunate': 0, 'protection': 0, 'pot': 0, 'marched': 0, 'evidently': 0, 'roared': 0, 'fine': 0, 'peeping': 0, 'hush': 0, 'whispered': 0, 'execution': 0, 'boxed': 0, 'scream': 0, 'laughter': 0, 'places': 0, 'thunder': 0, 'ridges': 0, 'furrows': 0, 'balls': 0, 'hedgehogs': 0, 'mallets': 0, 'flamingoes': 0, 'double': 0, 'arches': 0, 'chief': 0, 'managing': 0, 'flamingo': 0, 'body': 0, 'tucked': 0, 'comfortably': 0, 'straightened': 0, 'hedgehog': 0, 'expression': 0, 'bursting': 0, 'laughing': 0, 'provoking': 0, 'unrolled': 0, 'act': 0, 'crawling': 0, 'ridge': 0, 'furrow': 0, 'send': 0, 'doubled': 0, 'parts': 0, 'players': 0, 'played': 0, 'turns': 0, 'quarrelling': 0, 'fighting': 0, 'furious': 0, 'stamping': 0, 'shouting': 0, 'uneasy': 0, 'dispute': 0, 'beheading': 0, 'alive': 0, 'appearance': 0, 'nodded': 0, 'account': 0, 'someone': 0, 'fairly': 0, 'complaining': 0, 'quarrel': 0, 'oneself': 0, 'attends': 0, 'arch': 0, 'croqueted': 0, 'win': 0, 'finishing': 0, 'friend': 0, 'kiss': 0, 'likes': 0, 'impertinent': 0, 'removed': 0, 'passing': 0, 'settling': 0, 'difficulties': 0, 'executioner': 0, 'screaming': 0, 'search': 0, 'engaged': 0, 'fight': 0, 'croqueting': 0, 'helpless': 0, 'collected': 0, 'appealed': 0, 'settle': 0, 'arguments': 0, 'unless': 0, 'weren': 0, 'anxious': 0, 'prison': 0, 'arrow': 0, 'fading': 0, 'entirely': 0, 'disappeared': 0, 'wildly': 0, 'ix': 0, 'mock': 0, 'turtle': 0, 'affectionately': 0, 'pleasant': 0, 'hopeful': 0, 'tempered': 0, 'vinegar': 0, 'sour': 0, 'camomile': 0, 'bitter': 0, 'barley': 0, 'sugar': 0, 'sweet': 0, 'stingy': 0, 'forget': 0, 'moral': 0, 'hasn': 0, 'tut': 0, 'squeezed': 0, 'closer': 0, 'keeping': 0, 'uncomfortably': 0, 'bore': 0, 'tis': 0, 'minding': 0, 'morals': 0, 'waist': 0, 'experiment': 0, 'bite': 0, 'mustard': 0, 'feather': 0, 'flock': 0, 'mineral': 0, 'agree': 0, 'attended': 0, 'vegetable': 0, 'imagine': 0, 'cheap': 0, 'birthday': 0, 'dig': 0, 'worried': 0, 'died': 0, 'favourite': 0, 'linked': 0, 'hers': 0, 'tremble': 0, 'thunderstorm': 0, 'fair': 0, 'warning': 0, 'choice': 0, 'absence': 0, 'shade': 0, 'delay': 0, 'cost': 0, 'whom': 0, 'sentenced': 0, 'custody': 0, 'company': 0, 'pardoned': 0, 'executions': 0, 'gryphon': 0, 'sun': 0, 'picture': 0, 'lazy': 0, 'leaving': 0, 'rubbed': 0, 'watched': 0, 'chuckled': 0, 'executes': 0, 'ledge': 0, 'rock': 0, 'heart': 0, 'pitied': 0, 'sorrow': 0, 'hollow': 0, 'occasional': 0, 'exclamation': 0, 'hjckrrh': 0, 'heavy': 0, 'calmly': 0, 'school': 0, 'tortoise': 0, 'sink': 0, 'mayn': 0, 'educations': 0, 'proud': 0, 'extras': 0, 'learned': 0, 'relief': 0, 'ours': 0, 'extra': 0, 'afford': 0, 'regular': 0, 'inquired': 0, 'reeling': 0, 'writhing': 0, 'arithmetic': 0, 'ambition': 0, 'distraction': 0, 'uglification': 0, 'derision': 0, 'lifted': 0, 'uglifying': 0, 'beautify': 0, 'prettier': 0, 'uglify': 0, 'simpleton': 0, 'encouraged': 0, 'mystery': 0, 'counting': 0, 'subjects': 0, 'flappers': 0, 'ancient': 0, 'modern': 0, 'seaography': 0, 'drawling': 0, 'conger': 0, 'week': 0, 'fainting': 0, 'coils': 0, 'stiff': 0, 'classics': 0, 'grief': 0, 'hid': 0, 'lessen': 0, 'eleventh': 0, 'holiday': 0, 'twelfth': 0, 'games': 0, 'x': 0, 'lobster': 0, 'quadrille': 0, 'flapper': 0, 'sobs': 0, 'bone': 0, 'punching': 0, 'recovered': 0, 'cheeks': 0, 'introduced': 0, 'delightful': 0, 'dance': 0, 'form': 0, 'lines': 0, 'seals': 0, 'turtles': 0, 'salmon': 0, 'cleared': 0, 'jelly': 0, 'advance': 0, 'partner': 0, 'partners': 0, 'lobsters': 0, 'retire': 0, 'bound': 0, 'capering': 0, 'yelled': 0, 'land': 0, 'figure': 0, 'dropping': 0, 'pretty': 0, 'dancing': 0, 'treading': 0, 'toes': 0, 'forepaws': 0, 'mark': 0, 'whiting': 0, 'snail': 0, 'porpoise': 0, 'shingle': 0, 'join': 0, 'askance': 0, 'thanked': 0, 'kindly': 0, 'scaly': 0, 'england': 0, 'france': 0, 'beloved': 0, 'dinn': 0, 'tails': 0, 'mouths': 0, 'thrown': 0, 'shiny': 0, 'blacking': 0, 'soles': 0, 'eels': 0, 'shrimp': 0, 'thoughts': 0, 'obliged': 0, 'anywhere': 0, 'journey': 0, 'purpose': 0, 'impatient': 0, 'explanations': 0, 'gained': 0, 'listeners': 0, 'part': 0, 'sluggard': 0, 'baked': 0, 'eyelids': 0, 'trims': 0, 'belt': 0, 'buttons': 0, 'editions': 0, 'follows': 0, 'sands': 0, 'gay': 0, 'lark': 0, 'contemptuous': 0, 'tones': 0, 'shark': 0, 'tide': 0, 'rises': 0, 'sharks': 0, 'around': 0, 'tremulous': 0, 'uncommon': 0, 'explained': 0, 'persisted': 0, 'disobey': 0, 'owl': 0, 'panther': 0, 'sharing': 0, 'pie': 0, 'crust': 0, 'gravy': 0, 'meat': 0, 'share': 0, 'treat': 0, 'boon': 0, 'permitted': 0, 'received': 0, 'fork': 0, 'banquet': 0, 'hm': 0, 'accounting': 0, 'tastes': 0, 'rich': 0, 'tureen': 0, 'dainties': 0, 'evening': 0, 'beau': 0, 'ootiful': 0, 'soo': 0, 'oop': 0, 'e': 0, 'cares': 0, 'pennyworth': 0, 'beauti': 0, 'ful': 0, 'panted': 0, 'faintly': 0, 'breeze': 0, 'xi': 0, 'stole': 0, 'tarts': 0, 'seated': 0, 'throne': 0, 'arrived': 0, 'standing': 0, 'chains': 0, 'soldier': 0, 'guard': 0, 'trumpet': 0, 'scroll': 0, 'parchment': 0, 'court': 0, 'refreshments': 0, 'pass': 0, 'justice': 0, 'wig': 0, 'wore': 0, 'frontispiece': 0, 'comfortable': 0, 'becoming': 0, 'jurors': 0, 'rightly': 0, 'men': 0, 'slates': 0, 'indignant': 0, 'spectacles': 0, 'spell': 0, 'neighbour': 0, 'muddle': 0, 'pencil': 0, 'squeaked': 0, 'quickly': 0, 'juror': 0, 'herald': 0, 'accusation': 0, 'blew': 0, 'blasts': 0, 'summer': 0, 'verdict': 0, 'witness': 0, 'teacup': 0, 'sent': 0, 'fourteenth': 0, 'fifteenth': 0, 'sixteenth': 0, 'wrote': 0, 'dates': 0, 'reduced': 0, 'shillings': 0, 'pence': 0, 'hat': 0, 'stolen': 0, 'memorandum': 0, 'fidgeted': 0, 'evidence': 0, 'spot': 0, 'encourage': 0, 'shifting': 0, 'remain': 0, 'squeeze': 0, 'boldly': 0, 'reasonable': 0, 'pace': 0, 'ridiculous': 0, 'fashion': 0, 'officers': 0, 'list': 0, 'singers': 0, 'thin': 0, 'dunce': 0, 'twinkled': 0, 'deny': 0, 'denies': 0, 'miserable': 0, 'speaker': 0, 'suppressed': 0, 'canvas': 0, 'bag': 0, 'tied': 0, 'strings': 0, 'newspapers': 0, 'trials': 0, 'attempts': 0, 'applause': 0, 'understood': 0, 'lower': 0, 'officer': 0, 'examine': 0, 'folding': 0, 'collar': 0, 'shrieked': 0, 'behead': 0, 'suppress': 0, 'undertone': 0, 'ache': 0, 'fumbled': 0, 'xii': 0, 'flurry': 0, 'tipped': 0, 'skirt': 0, 'upsetting': 0, 'jurymen': 0, 'sprawling': 0, 'reminding': 0, 'globe': 0, 'goldfish': 0, 'accidentally': 0, 'dismay': 0, 'accident': 0, 'vague': 0, 'die': 0, 'cannot': 0, 'emphasis': 0, 'haste': 0, 'downwards': 0, 'unable': 0, 'signifies': 0, 'shock': 0, 'pencils': 0, 'diligently': 0, 'overcome': 0, 'gazing': 0, 'unimportant': 0, 'respectful': 0, 'note': 0, 'cackled': 0, 'forty': 0, 'persons': 0, 'mile': 0, 'invented': 0, 'oldest': 0, 'prisoner': 0, 'directed': 0, 'verses': 0, 'handwriting': 0, 'queerest': 0, 'imitated': 0, 'prove': 0, 'signed': 0, 'sign': 0, 'mischief': 0, 'honest': 0, 'clapping': 0, 'proves': 0, 'guilt': 0, 'character': 0, 'push': 0, 'returned': 0, 'involved': 0, 'affair': 0, 'trusts': 0, 'fit': 0, 'obstacle': 0, 'ourselves': 0, 'secret': 0, 'sixpence': 0, 'atom': 0, 'attempted': 0, 'saves': 0, 'spreading': 0, 'cardboard': 0, 'clearer': 0, 'fits': 0, 'furiously': 0, 'inkstand': 0, 'ink': 0, 'trickling': 0, 'pun': 0, 'twentieth': 0, 'purple': 0, 'flying': 0, 'brushing': 0, 'fluttered': 0, 'kissed': 0, 'wonderful': 0, 'setting': 0, 'dreaming': 0, 'dreamed': 0, 'clasped': 0, 'toss': 0, 'listened': 0, 'rustled': 0, 'splashed': 0, 'neighbouring': 0, 'rattle': 0, 'teacups': 0, 'shared': 0, 'meal': 0, 'crashed': 0, 'choking': 0, 'believed': 0, 'reality': 0, 'rustling': 0, 'rippling': 0, 'reeds': 0, 'tinkling': 0, 'sheep': 0, 'bells': 0, 'cries': 0, 'shepherd': 0, 'noises': 0, 'clamour': 0, 'farm': 0, 'yard': 0, 'lowing': 0, 'cattle': 0, 'lastly': 0, 'pictured': 0, 'riper': 0, 'years': 0, 'loving': 0, 'childhood': 0, 'gather': 0, 'sorrows': 0, 'joys': 0, 'remembering': 0, 'happy': 0}\n"
          ]
        }
      ],
      "source": [
        "file_content = open('./alice_in_wonderland.txt')\n",
        "words = {}\n",
        "for line in file_content:\n",
        "    a = ''.join([char if char.isalnum() or char.isspace() else ' ' for char in line]).lower().split()\n",
        "    # print(a)\n",
        "    for w in a:\n",
        "        # print(w)\n",
        "        words[w]=0\n",
        "    if words.keys() in a: #키값 밸류값??    \n",
        "        words.values += 1\n",
        "print(words)\n"
      ]
    },
    {
      "cell_type": "code",
      "execution_count": 81,
      "metadata": {
        "id": "trMw_2Fdh97P"
      },
      "outputs": [
        {
          "ename": "AttributeError",
          "evalue": "'NoneType' object has no attribute 'items'",
          "output_type": "error",
          "traceback": [
            "\u001b[1;31m---------------------------------------------------------------------------\u001b[0m",
            "\u001b[1;31mAttributeError\u001b[0m                            Traceback (most recent call last)",
            "Cell \u001b[1;32mIn[81], line 20\u001b[0m\n\u001b[0;32m     17\u001b[0m result \u001b[38;5;241m=\u001b[39m analyzer\u001b[38;5;241m.\u001b[39mword_frequency()\n\u001b[0;32m     19\u001b[0m expected_result \u001b[38;5;241m=\u001b[39m read_expected_result(expected_result_file)\n\u001b[1;32m---> 20\u001b[0m sorted_result \u001b[38;5;241m=\u001b[39m \u001b[38;5;28msorted\u001b[39m(\u001b[43mresult\u001b[49m\u001b[38;5;241;43m.\u001b[39;49m\u001b[43mitems\u001b[49m(), key\u001b[38;5;241m=\u001b[39m\u001b[38;5;28;01mlambda\u001b[39;00m x: (\u001b[38;5;241m-\u001b[39mx[\u001b[38;5;241m1\u001b[39m], x[\u001b[38;5;241m0\u001b[39m]))\n\u001b[0;32m     21\u001b[0m \u001b[38;5;28;01massert\u001b[39;00m sorted_result \u001b[38;5;241m==\u001b[39m expected_result\n\u001b[0;32m     24\u001b[0m missing_file_path \u001b[38;5;241m=\u001b[39m \u001b[38;5;124m\"\u001b[39m\u001b[38;5;124mmissing.txt\u001b[39m\u001b[38;5;124m\"\u001b[39m\n",
            "\u001b[1;31mAttributeError\u001b[0m: 'NoneType' object has no attribute 'items'"
          ]
        }
      ],
      "source": [
        "import pickle\n",
        "\n",
        "def read_expected_result(expected_result_file):\n",
        "  try:\n",
        "      with open(expected_result_file, 'rb') as f:\n",
        "          expected_result = pickle.load(f)\n",
        "  except FileNotFoundError:\n",
        "      print(\"Expected result file not found.\")\n",
        "      expected_result = None\n",
        "  finally:\n",
        "      return expected_result\n",
        "\n",
        "input_file_path = \"alice_in_wonderland.txt\"\n",
        "expected_result_file = \"expected_result.pkl\"\n",
        "\n",
        "analyzer = TextAnalyzer(input_file_path)\n",
        "result = analyzer.word_frequency()\n",
        "\n",
        "expected_result = read_expected_result(expected_result_file)\n",
        "sorted_result = sorted(result.items(), key=lambda x: (-x[1], x[0]))\n",
        "assert sorted_result == expected_result\n",
        "\n",
        "\n",
        "missing_file_path = \"missing.txt\"\n",
        "expected_result_file = \"missing_output.pkl\"\n",
        "analyzer = TextAnalyzer(missing_file_path)\n",
        "\n",
        "expected_result = read_expected_result(expected_result_file)\n",
        "output = analyzer.word_frequency()\n",
        "\n",
        "assert output == expected_result"
      ]
    },
    {
      "cell_type": "markdown",
      "metadata": {
        "id": "INqFk2K5c7ks"
      },
      "source": [
        "## 3. 다음을 계산하는 메서드를 포함한 CountryStatistics 클래스를 작성하세요:\n",
        "\n",
        "* GDP가 가장 높은 상위 5개 국가: 이 메서드는 GDP가 가장 높은 상위 5개 국가의 이름을 반환하며, GDP 값은 쉼표로 형식화됩니다.\n",
        "* 기대 수명이 가장 긴 상위 5개 국가: 이 메서드는 기대 수명이 가장 긴 상위 5개 국가의 이름을 반환합니다.\n",
        "* 인구 밀도가 가장 높은 상위 5개 국가: 이 메서드는 인구 밀도가 가장 높은 상위 5개 국가의 이름을 반환합니다.\n",
        "\n",
        "* 파일: https://gist.github.com/vr-23/d6a4a0aadcf3a2640091ca43c25e1955#file-world-data-2023-csv\n",
        "\n",
        "### CountryStatistics 클래스\n",
        "\n",
        "* __clean_numeric_data(value: str): 문자열을 입력으로 받아 쉼표, 달러 기호, 백분율 기호를 제거하고 숫자 값을 float으로 반환합니다. 입력을 변환할 수 없으면 0.0을 반환합니다.\n",
        "\n",
        "> 힌트: 이 함수는 쉼표나 달러 기호가 포함된 CSV 파일의 숫자 데이터를 처리하는 데 유용합니다.\n",
        "빈 문자열이나 숫자가 아닌 값을 처리할 수 있도록 예외 처리에 신경 쓰세요.\n",
        "\n",
        "* __load_data(filename: str): CSV 파일에서 국가 데이터를 로드하고 데이터를 파싱하여 Country 객체를 생성합니다. 정리된 데이터는 self.countries 리스트에 저장됩니다.\n",
        "\n",
        "> 힌트: csv.reader를 사용하여 CSV 파일을 한 줄씩 읽습니다.\n",
        "첫 번째 행은 헤더이므로 건너뜁니다.\n",
        "모든 숫자 데이터 필드에 대해 __clean_numeric_data를 호출하여 데이터를 저장하기 전에 정확하게 정리된 데이터를 확인하세요.\n",
        "GDP, 기대 수명, 인구 등의 열 인덱스를 정확하게 매핑하세요.\n",
        "\n",
        "* top_5_gdp(): GDP가 가장 높은 상위 5개 국가의 이름과 쉼표로 형식화된 GDP 값을 포함한 튜플 목록을 반환합니다.\n",
        "\n",
        "> 힌트: 국가들을 gdp 속성 기준으로 내림차순 정렬하세요.\n",
        "슬라이싱 ([:5])을 사용하여 상위 5개 항목을 선택하세요.\n",
        "국가 이름과 형식화된 GDP 값을 반환하세요.\n",
        "\n",
        "* top_5_life_expectancy(): 기대 수명이 가장 긴 상위 5개 국가의 이름과 그들의 기대 수명 값을 포함한 튜플 목록을 반환합니다.\n",
        "\n",
        "> 힌트: 국가들을 기대 수명(life_expectancy) 기준으로 내림차순 정렬하세요.\n",
        "슬라이싱 ([:5])을 사용하여 상위 5개 항목을 추출하세요.\n",
        "기대 수명 값은 형식화할 필요가 없으므로 있는 그대로 반환하세요.\n",
        "\n",
        "* countries_by_density(): 인구 밀도가 가장 높은 상위 5개 국가의 이름과 인구 밀도를 반환합니다.\n",
        "\n",
        "> 힌트: 국가들을 인구 밀도(density) 속성 기준으로 내림차순 정렬하세요.\n",
        "슬라이싱 ([:5])을 사용하여 상위 5개 항목을 선택하세요.\n",
        "인구 밀도 값은 정수이므로 형식화할 필요가 없습니다.\n"
      ]
    },
    {
      "cell_type": "code",
      "execution_count": null,
      "metadata": {
        "id": "u-O90MGn4Hmy"
      },
      "outputs": [],
      "source": [
        "import csv\n",
        "\n",
        "class Country:\n",
        "    def __init__(self, name: str, density: int, land_area: int, gdp: float, life_expectancy: float, population: int):\n",
        "        self.name = name\n",
        "        self.density = density\n",
        "        self.land_area = land_area\n",
        "        self.gdp = gdp\n",
        "        self.life_expectancy = life_expectancy\n",
        "        self.population = population\n",
        "\n",
        "class CountryStatistics:\n",
        "    def __init__(self, filename: str):\n",
        "        pass\n",
        "\n",
        "    def __clean_numeric_data(self, value: str) -> float:\n",
        "        pass\n",
        "\n",
        "    def __load_data(self, filename: str):\n",
        "        pass\n",
        "\n",
        "    def top_5_gdp(self):\n",
        "        pass\n",
        "\n",
        "    def top_5_life_expectancy(self):\n",
        "        pass\n",
        "\n",
        "    def countries_by_density(self):\n",
        "        pass\n"
      ]
    },
    {
      "cell_type": "code",
      "execution_count": null,
      "metadata": {
        "id": "gtu5YK_Vx623"
      },
      "outputs": [],
      "source": [
        "expected_gdp_output = [\n",
        "    (\"United States\", \"21,427,700,000,000\"),\n",
        "    (\"China\", \"19,910,000,000,000\"),\n",
        "    (\"Japan\", \"5,081,769,542,380\"),\n",
        "    (\"Germany\", \"3,845,630,030,824\"),\n",
        "    (\"United Kingdom\", \"2,827,113,184,696\")\n",
        "]\n",
        "\n",
        "expected_life_expectancy_output = [\n",
        "    (\"San Marino\", 85.4),\n",
        "    (\"Japan\", 84.2),\n",
        "    (\"Switzerland\", 83.6),\n",
        "    (\"Spain\", 83.3),\n",
        "    (\"Singapore\", 83.1)\n",
        "]\n",
        "\n",
        "expected_density_output = [\n",
        "    (\"Monaco\", 26337),\n",
        "    (\"Singapore\", 8358),\n",
        "    (\"Bahrain\", 2239),\n",
        "    (\"Vatican City\", 2003),\n",
        "    (\"Maldives\", 1802)\n",
        "]\n",
        "\n",
        "expected_average_population = 57\n",
        "\n",
        "stats = CountryStatistics('./countries.csv')\n",
        "\n",
        "for (expected_country, expected_gdp), (result_country, result_gdp) in zip(expected_gdp_output, stats.top_5_gdp()):\n",
        "    assert expected_country == result_country\n",
        "    assert expected_gdp == result_gdp\n",
        "\n",
        "for (expected_country, expected_life), (result_country, result_life) in zip(expected_life_expectancy_output, stats.top_5_life_expectancy()):\n",
        "    assert expected_country == result_country\n",
        "    assert expected_life == result_life\n",
        "\n",
        "for (expected_country, expected_density), (result_country, result_density) in zip(expected_density_output, stats.countries_by_density()):\n",
        "    assert expected_country == result_country\n",
        "    assert expected_density == result_density\n"
      ]
    },
    {
      "cell_type": "markdown",
      "metadata": {
        "id": "LtGlz5V2Nhmw"
      },
      "source": [
        "## 4. 파일에서 숫자 데이터를 처리하고 합계, 평균, 최소값, 최대값 및 중앙값과 같은 기본 통계를 계산하는 메서드를 제공하는 FileProcessor 클래스를 작성하세요.\n",
        "\n",
        "### FileProcessor 클래스\n",
        "\n",
        "* 생성자: FileProcessor 객체를 초기화합니다. 파일 이름을 입력으로 받아 저장하고, 이후에 파일에서 읽어온 숫자 데이터를 저장할 빈 리스트 self.data를 초기화합니다.\n",
        "\n",
        "> 힌트: 이 메서드는 파일을 읽고 처리할 준비를 합니다. 파일 경로는 저장되지만, 데이터는 다른 메서드에서 요청할 때까지 로드되지 않습니다.\n",
        "\n",
        "* __read_file(self): 파일에서 데이터를 읽습니다. 파일을 읽기 모드로 열고, 각 줄에서 불필요한 문자를 제거한 후 데이터를 실수로 변환합니다. 이 처리된 데이터를 self.data에 저장합니다.\n",
        "\n",
        "> 힌트: 이 메서드를 사용하여 필요한 경우에만 데이터를 지연 로드합니다. FileNotFoundError 및 ValueError와 같은 파일 관련 오류를 처리하여 파일 읽기가 견고하게 이루어지도록 합니다.\n",
        "\n",
        "* calc_sum(self): 숫자 데이터의 합계를 계산합니다. 데이터가 아직 읽히지 않았다면 먼저 _read_file 메서드를 호출합니다. 데이터가 사용 가능해지면 값을 합산하고 결과를 소수점 한 자리까지 반올림하여 반환합니다.\n",
        "\n",
        "> 힌트: 계산을 수행하기 전에 파일이 읽혔는지 확인하세요. 내장된 sum() 함수를 사용하여 코드를 간소화할 수 있습니다. 빈 파일이 있을 수 있으므로 _read_file이 성공적으로 호출된 경우에만 이 메서드가 제대로 작동합니다.\n",
        "\n",
        "* calc_average(self): 숫자 데이터의 평균(산술 평균)을 계산합니다. 필요한 경우 _read_file을 호출하여 데이터가 사용 가능한지 확인합니다. 데이터가 없을 경우 ZeroDivisionError를 발생시킵니다.\n",
        "\n",
        "> 힌트: 평균은 데이터의 합계를 항목 수로 나눈 값입니다. 나누기를 수행하기 전에 항목이 있는지 확인하여 0으로 나누는 오류를 방지하세요.\n",
        "\n",
        "* calc_min(self): 데이터셋에서 최소값을 계산하고 반환합니다. 아직 파일을 읽지 않았다면 파일을 읽어 데이터를 확인합니다. 데이터가 없을 경우 ValueError를 발생시킵니다.\n",
        "\n",
        "> 힌트: Python의 내장 min() 함수를 사용하여 최소값을 찾습니다. 데이터가 없는 경우 적절하게 예외를 발생시켜야 합니다.\n",
        "\n",
        "* calc_max(self): 데이터셋에서 최대값을 계산하고 반환합니다. 필요한 경우 데이터를 읽고, 데이터가 비어 있으면 ValueError를 발생시킵니다.\n",
        "\n",
        "> 힌트: calc_min()과 유사하게 구현되지만, max()를 사용하여 가장 큰 숫자를 반환합니다.\n",
        "\n",
        "* calc_median(self): 숫자 데이터의 중앙값을 계산하고 반환합니다. 데이터를 정렬한 후 중앙값을 계산합니다. 데이터 포인트 수가 홀수인 경우 중간값을 반환하고, 짝수인 경우 두 중간값의 평균을 반환합니다.\n",
        "\n",
        "> 힌트: 데이터를 읽은 후 정렬하여 중앙값을 계산합니다. 데이터 길이가 짝수일 경우 중앙값은 두 중간 숫자의 평균이고, 홀수일 경우 중앙값은 중간 숫자입니다.\n",
        "\n",
        "### 오류 처리\n",
        "\n",
        "클래스는 파일을 찾을 수 없거나 파일에 유효하지 않은 데이터가 있을 때 적절한 예외를 발생시켜야 합니다.\n",
        "\n",
        "* FileNotFoundError: 파일이 존재하지 않을 때 발생합니다.\n",
        "* ValueError: 파일의 한 줄이 실수로 변환할 수 없거나 최소값, 최대값 또는 중앙값 작업에 대해 빈 파일이 제공될 때 발생합니다.\n",
        "* ZeroDivisionError: 파일이 비어 있어 평균을 계산할 데이터가 없을 때 발생합니다.\n"
      ]
    },
    {
      "cell_type": "code",
      "execution_count": null,
      "metadata": {
        "id": "2UAF4rYtNqtF"
      },
      "outputs": [],
      "source": [
        "class FileProcessor:\n",
        "    def __init__(self, file_name: str):\n",
        "        pass\n",
        "\n",
        "    def __read_file(self):\n",
        "        pass\n",
        "\n",
        "    def calc_sum(self) -> float:\n",
        "        pass\n",
        "\n",
        "    def calc_average(self) -> float:\n",
        "        pass\n",
        "\n",
        "    def calc_min(self) -> float:\n",
        "        pass\n",
        "\n",
        "    def calc_max(self) -> float:\n",
        "        pass\n",
        "\n",
        "    def calc_median(self) -> float:\n",
        "        pass\n"
      ]
    },
    {
      "cell_type": "code",
      "execution_count": null,
      "metadata": {
        "id": "8HB7gKAQOZs4"
      },
      "outputs": [],
      "source": [
        "input_files = ['./Numbers.txt', './EmptyFile.txt', './InvalidFile.txt']\n",
        "expected_sums = [23759.0, None, None]\n",
        "expected_averages = [475.2, None, None]\n",
        "expected_mins = [33.0, None, None]\n",
        "expected_maxs = [948.0, None, None]\n",
        "expected_medians = [442.5, None, None]\n",
        "\n",
        "failed_tests = []\n",
        "\n",
        "for file, expected_sum, expected_avg, expected_min, expected_max, expected_median in zip(input_files, expected_sums, expected_averages, expected_mins, expected_maxs, expected_medians):\n",
        "    processor = FileProcessor(file)\n",
        "\n",
        "    try:\n",
        "        result_sum = processor.calc_sum()\n",
        "        if expected_sum is not None:\n",
        "            assert round(result_sum, 1) == round(expected_sum, 1)\n",
        "    except (FileNotFoundError, ValueError, ZeroDivisionError) as e:\n",
        "        if expected_sum is None:\n",
        "            pass\n",
        "        else:\n",
        "            failed_tests.append(f\"Sum test failed for {file}: {e}\")\n",
        "\n",
        "    try:\n",
        "        result_avg = processor.calc_average()\n",
        "        if expected_avg is not None:\n",
        "            assert round(result_avg, 1) == round(expected_avg, 1)\n",
        "    except (FileNotFoundError, ValueError, ZeroDivisionError) as e:\n",
        "        if expected_avg is None:\n",
        "            pass\n",
        "        else:\n",
        "            failed_tests.append(f\"Average test failed for {file}: {e}\")\n",
        "\n",
        "    try:\n",
        "        result_min = processor.calc_min()\n",
        "        if expected_min is not None:\n",
        "            assert round(result_min, 1) == round(expected_min, 1)\n",
        "    except (FileNotFoundError, ValueError) as e:\n",
        "        if expected_min is None:\n",
        "            pass\n",
        "        else:\n",
        "            failed_tests.append(f\"Min test failed for {file}: {e}\")\n",
        "\n",
        "    try:\n",
        "        result_max = processor.calc_max()\n",
        "        if expected_max is not None:\n",
        "            assert round(result_max, 1) == round(expected_max, 1)\n",
        "    except (FileNotFoundError, ValueError) as e:\n",
        "        if expected_max is None:\n",
        "            pass\n",
        "        else:\n",
        "            failed_tests.append(f\"Max test failed for {file}: {e}\")\n",
        "\n",
        "    try:\n",
        "        result_median = processor.calc_median()\n",
        "        if expected_median is not None:\n",
        "            assert round(result_median, 1) == round(expected_median, 1)\n",
        "    except (FileNotFoundError, ValueError) as e:\n",
        "        if expected_median is None:\n",
        "            pass\n",
        "        else:\n",
        "            failed_tests.append(f\"Median test failed for {file}: {e}\")\n",
        "\n",
        "if failed_tests:\n",
        "    for test in failed_tests:\n",
        "        print(test)"
      ]
    }
  ],
  "metadata": {
    "colab": {
      "provenance": [],
      "toc_visible": true
    },
    "kernelspec": {
      "display_name": "Python 3",
      "name": "python3"
    },
    "language_info": {
      "codemirror_mode": {
        "name": "ipython",
        "version": 3
      },
      "file_extension": ".py",
      "mimetype": "text/x-python",
      "name": "python",
      "nbconvert_exporter": "python",
      "pygments_lexer": "ipython3",
      "version": "3.9.13"
    }
  },
  "nbformat": 4,
  "nbformat_minor": 0
}
